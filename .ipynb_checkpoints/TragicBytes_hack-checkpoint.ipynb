{
 "cells": [
  {
   "cell_type": "markdown",
   "metadata": {
    "_uuid": "f0cf113c0af8c9137e28993d7139fb4fc595d0e2"
   },
   "source": [
    "## Objective\n",
    "Using unsupervised machine learning techniques the idea is to identify different profiles into the people who applies to the graduate program."
   ]
  },
  {
   "cell_type": "code",
   "execution_count": 1,
   "metadata": {
    "_cell_guid": "b1076dfc-b9ad-4769-8c92-a6c4dae69d19",
    "_uuid": "8f2839f25d086af736a60e9eeb907d3b93b6e0e5"
   },
   "outputs": [
    {
     "name": "stdout",
     "output_type": "stream",
     "text": [
      "/Users/Madhavi/Downloads\n"
     ]
    }
   ],
   "source": [
    "import numpy as np                # linear algebra\n",
    "import pandas as pd               # data frames\n",
    "import seaborn as sns             # visualizations\n",
    "import matplotlib.pyplot as plt   # visualizations\n",
    "import xlrd\n",
    "import scipy.stats # statistics\n",
    "from sklearn import preprocessing\n",
    "from sklearn.cluster import KMeans\n",
    "from sklearn.decomposition import PCA\n",
    "\n",
    "import os\n",
    "#print(os.listdir(\"/Users/Madhavi/documents/\")\n",
    "path = os.getcwd()\n",
    "\n",
    "print(path)\n",
    "#for filename in os.listdir(path):\n",
    "#filepath = os.path.join(path, \"datasets_574076_1040311_dataset.xlsx\")\n",
    "filepath = os.path.join(path, \"Race Data Entry - CRDT.csv\")"
   ]
  },
  {
   "cell_type": "code",
   "execution_count": 2,
   "metadata": {
    "_cell_guid": "79c7e3d0-c299-4dcb-8224-4455121ee9b0",
    "_uuid": "d629ff2d2480ee46fbb7e2d37f6b5fab8052498a"
   },
   "outputs": [
    {
     "name": "stdout",
     "output_type": "stream",
     "text": [
      "/Users/Madhavi/Downloads/datasets_574076_1040311_dataset.xlsx\n",
      "        Patient ID  Patient age quantile SARS-Cov-2 exam result  \\\n",
      "0  44477f75e8169d2                    13               negative   \n",
      "1  126e9dd13932f68                    17               negative   \n",
      "2  a46b4402a0e5696                     8               negative   \n",
      "3  f7d619a94f97c45                     5               negative   \n",
      "4  d9e41465789c2b5                    15               negative   \n",
      "\n",
      "   Patient addmited to regular ward (1=yes, 0=no)  \\\n",
      "0                                               0   \n",
      "1                                               0   \n",
      "2                                               0   \n",
      "3                                               0   \n",
      "4                                               0   \n",
      "\n",
      "   Patient addmited to semi-intensive unit (1=yes, 0=no)  \\\n",
      "0                                                  0       \n",
      "1                                                  0       \n",
      "2                                                  0       \n",
      "3                                                  0       \n",
      "4                                                  0       \n",
      "\n",
      "   Patient addmited to intensive care unit (1=yes, 0=no)  Hematocrit  \\\n",
      "0                                                  0             NaN   \n",
      "1                                                  0        0.236515   \n",
      "2                                                  0             NaN   \n",
      "3                                                  0             NaN   \n",
      "4                                                  0             NaN   \n",
      "\n",
      "   Hemoglobin  Platelets  Mean platelet volume   ...  \\\n",
      "0         NaN        NaN                    NaN  ...   \n",
      "1    -0.02234  -0.517413               0.010677  ...   \n",
      "2         NaN        NaN                    NaN  ...   \n",
      "3         NaN        NaN                    NaN  ...   \n",
      "4         NaN        NaN                    NaN  ...   \n",
      "\n",
      "   Hb saturation (arterial blood gases)  pCO2 (arterial blood gas analysis)  \\\n",
      "0                                   NaN                                 NaN   \n",
      "1                                   NaN                                 NaN   \n",
      "2                                   NaN                                 NaN   \n",
      "3                                   NaN                                 NaN   \n",
      "4                                   NaN                                 NaN   \n",
      "\n",
      "   Base excess (arterial blood gas analysis)  \\\n",
      "0                                        NaN   \n",
      "1                                        NaN   \n",
      "2                                        NaN   \n",
      "3                                        NaN   \n",
      "4                                        NaN   \n",
      "\n",
      "   pH (arterial blood gas analysis)  Total CO2 (arterial blood gas analysis)  \\\n",
      "0                               NaN                                      NaN   \n",
      "1                               NaN                                      NaN   \n",
      "2                               NaN                                      NaN   \n",
      "3                               NaN                                      NaN   \n",
      "4                               NaN                                      NaN   \n",
      "\n",
      "   HCO3 (arterial blood gas analysis)  pO2 (arterial blood gas analysis)  \\\n",
      "0                                 NaN                                NaN   \n",
      "1                                 NaN                                NaN   \n",
      "2                                 NaN                                NaN   \n",
      "3                                 NaN                                NaN   \n",
      "4                                 NaN                                NaN   \n",
      "\n",
      "   Arteiral Fio2  Phosphor  ctO2 (arterial blood gas analysis)  \n",
      "0            NaN       NaN                                 NaN  \n",
      "1            NaN       NaN                                 NaN  \n",
      "2            NaN       NaN                                 NaN  \n",
      "3            NaN       NaN                                 NaN  \n",
      "4            NaN       NaN                                 NaN  \n",
      "\n",
      "[5 rows x 111 columns]\n",
      "<class 'pandas.core.frame.DataFrame'>\n",
      "RangeIndex: 5644 entries, 0 to 5643\n",
      "Columns: 111 entries, Patient ID to ctO2 (arterial blood gas analysis)\n",
      "dtypes: float64(70), int64(4), object(37)\n",
      "memory usage: 4.8+ MB\n",
      "None\n",
      "(5644, 111)\n"
     ]
    }
   ],
   "source": [
    "print(filepath)\n",
    "#xls = pd.ExcelFile(filepath)\n",
    "#df = pd.read_excel(xls, 'All')\n",
    "df = pd.read\n",
    "  \n",
    "print(dataframe) \n",
    "#df = pd.read_excel(\"/Users/Madhavi/documents/datasets_574076_1040311_dataset.xlsx\"df = pd.read_excel(\"/Users/Madhavi/documents/datasets_574076_1040311_dataset.xlsx\"')\n",
    "\n",
    "# Print the head of df\n",
    "print(df.head())\n",
    "\n",
    "# Print the info of df\n",
    "print(df.info())\n",
    "\n",
    "# Print the shape of df\n",
    "print(df.shape)"
   ]
  },
  {
   "cell_type": "markdown",
   "metadata": {
    "_uuid": "f26396c2d00622dd7797fea7542e47766715c93a"
   },
   "source": [
    "The dataset has 400 aspirants with 9 variables consider for its admission."
   ]
  },
  {
   "cell_type": "markdown",
   "metadata": {
    "_uuid": "68df552065aa15aa7e7b9f50e82f788fe54c6b11"
   },
   "source": [
    "## Basic Exploratory Data Analysis\n",
    "\n",
    "More about [preparation and exploratory analysis](https://www.kaggle.com/camiloemartinez/lucky-charms-lovers)."
   ]
  },
  {
   "cell_type": "code",
   "execution_count": 3,
   "metadata": {
    "_uuid": "2fd833a5970e7c62108f7028dc3ea2fef5a354d4"
   },
   "outputs": [
    {
     "data": {
      "text/html": [
       "<div>\n",
       "<style scoped>\n",
       "    .dataframe tbody tr th:only-of-type {\n",
       "        vertical-align: middle;\n",
       "    }\n",
       "\n",
       "    .dataframe tbody tr th {\n",
       "        vertical-align: top;\n",
       "    }\n",
       "\n",
       "    .dataframe thead th {\n",
       "        text-align: right;\n",
       "    }\n",
       "</style>\n",
       "<table border=\"1\" class=\"dataframe\">\n",
       "  <thead>\n",
       "    <tr style=\"text-align: right;\">\n",
       "      <th></th>\n",
       "      <th>Patient age quantile</th>\n",
       "      <th>Patient addmited to regular ward (1=yes, 0=no)</th>\n",
       "      <th>Patient addmited to semi-intensive unit (1=yes, 0=no)</th>\n",
       "      <th>Patient addmited to intensive care unit (1=yes, 0=no)</th>\n",
       "      <th>Hematocrit</th>\n",
       "      <th>Hemoglobin</th>\n",
       "      <th>Platelets</th>\n",
       "      <th>Mean platelet volume</th>\n",
       "      <th>Red blood Cells</th>\n",
       "      <th>Lymphocytes</th>\n",
       "      <th>...</th>\n",
       "      <th>Hb saturation (arterial blood gases)</th>\n",
       "      <th>pCO2 (arterial blood gas analysis)</th>\n",
       "      <th>Base excess (arterial blood gas analysis)</th>\n",
       "      <th>pH (arterial blood gas analysis)</th>\n",
       "      <th>Total CO2 (arterial blood gas analysis)</th>\n",
       "      <th>HCO3 (arterial blood gas analysis)</th>\n",
       "      <th>pO2 (arterial blood gas analysis)</th>\n",
       "      <th>Arteiral Fio2</th>\n",
       "      <th>Phosphor</th>\n",
       "      <th>ctO2 (arterial blood gas analysis)</th>\n",
       "    </tr>\n",
       "  </thead>\n",
       "  <tbody>\n",
       "    <tr>\n",
       "      <th>count</th>\n",
       "      <td>5644.000000</td>\n",
       "      <td>5644.000000</td>\n",
       "      <td>5644.000000</td>\n",
       "      <td>5644.000000</td>\n",
       "      <td>6.030000e+02</td>\n",
       "      <td>6.030000e+02</td>\n",
       "      <td>6.020000e+02</td>\n",
       "      <td>5.990000e+02</td>\n",
       "      <td>6.020000e+02</td>\n",
       "      <td>6.020000e+02</td>\n",
       "      <td>...</td>\n",
       "      <td>2.700000e+01</td>\n",
       "      <td>2.700000e+01</td>\n",
       "      <td>2.700000e+01</td>\n",
       "      <td>2.700000e+01</td>\n",
       "      <td>2.700000e+01</td>\n",
       "      <td>2.700000e+01</td>\n",
       "      <td>2.700000e+01</td>\n",
       "      <td>2.000000e+01</td>\n",
       "      <td>2.000000e+01</td>\n",
       "      <td>2.700000e+01</td>\n",
       "    </tr>\n",
       "    <tr>\n",
       "      <th>mean</th>\n",
       "      <td>9.318391</td>\n",
       "      <td>0.013997</td>\n",
       "      <td>0.008859</td>\n",
       "      <td>0.007264</td>\n",
       "      <td>-2.186214e-09</td>\n",
       "      <td>-1.601319e-08</td>\n",
       "      <td>-3.535004e-10</td>\n",
       "      <td>7.438142e-09</td>\n",
       "      <td>8.424447e-09</td>\n",
       "      <td>-7.866736e-09</td>\n",
       "      <td>...</td>\n",
       "      <td>-1.379737e-10</td>\n",
       "      <td>8.416397e-09</td>\n",
       "      <td>-1.655685e-09</td>\n",
       "      <td>4.139211e-10</td>\n",
       "      <td>-7.472139e-09</td>\n",
       "      <td>6.070843e-09</td>\n",
       "      <td>-2.469729e-08</td>\n",
       "      <td>4.656613e-09</td>\n",
       "      <td>6.332993e-09</td>\n",
       "      <td>5.243001e-09</td>\n",
       "    </tr>\n",
       "    <tr>\n",
       "      <th>std</th>\n",
       "      <td>5.777903</td>\n",
       "      <td>0.117489</td>\n",
       "      <td>0.093713</td>\n",
       "      <td>0.084929</td>\n",
       "      <td>1.000830e+00</td>\n",
       "      <td>1.000830e+00</td>\n",
       "      <td>1.000832e+00</td>\n",
       "      <td>1.000836e+00</td>\n",
       "      <td>1.000832e+00</td>\n",
       "      <td>1.000832e+00</td>\n",
       "      <td>...</td>\n",
       "      <td>1.019049e+00</td>\n",
       "      <td>1.019049e+00</td>\n",
       "      <td>1.019049e+00</td>\n",
       "      <td>1.019049e+00</td>\n",
       "      <td>1.019049e+00</td>\n",
       "      <td>1.019049e+00</td>\n",
       "      <td>1.019049e+00</td>\n",
       "      <td>1.025978e+00</td>\n",
       "      <td>1.025978e+00</td>\n",
       "      <td>1.019049e+00</td>\n",
       "    </tr>\n",
       "    <tr>\n",
       "      <th>min</th>\n",
       "      <td>0.000000</td>\n",
       "      <td>0.000000</td>\n",
       "      <td>0.000000</td>\n",
       "      <td>0.000000</td>\n",
       "      <td>-4.501420e+00</td>\n",
       "      <td>-4.345603e+00</td>\n",
       "      <td>-2.552426e+00</td>\n",
       "      <td>-2.457575e+00</td>\n",
       "      <td>-3.970608e+00</td>\n",
       "      <td>-1.865070e+00</td>\n",
       "      <td>...</td>\n",
       "      <td>-1.999560e+00</td>\n",
       "      <td>-1.244817e+00</td>\n",
       "      <td>-3.082674e+00</td>\n",
       "      <td>-3.568877e+00</td>\n",
       "      <td>-2.925618e+00</td>\n",
       "      <td>-2.985592e+00</td>\n",
       "      <td>-1.175907e+00</td>\n",
       "      <td>-1.532932e+00</td>\n",
       "      <td>-1.480526e+00</td>\n",
       "      <td>-2.900254e+00</td>\n",
       "    </tr>\n",
       "    <tr>\n",
       "      <th>25%</th>\n",
       "      <td>4.000000</td>\n",
       "      <td>0.000000</td>\n",
       "      <td>0.000000</td>\n",
       "      <td>0.000000</td>\n",
       "      <td>-5.188074e-01</td>\n",
       "      <td>-5.862439e-01</td>\n",
       "      <td>-6.053457e-01</td>\n",
       "      <td>-6.624832e-01</td>\n",
       "      <td>-5.679496e-01</td>\n",
       "      <td>-7.307069e-01</td>\n",
       "      <td>...</td>\n",
       "      <td>-1.122574e+00</td>\n",
       "      <td>-5.348102e-01</td>\n",
       "      <td>-3.308668e-01</td>\n",
       "      <td>-9.210583e-02</td>\n",
       "      <td>-5.117720e-01</td>\n",
       "      <td>-5.397211e-01</td>\n",
       "      <td>-8.169898e-01</td>\n",
       "      <td>-1.214975e-01</td>\n",
       "      <td>-5.527296e-01</td>\n",
       "      <td>-4.852787e-01</td>\n",
       "    </tr>\n",
       "    <tr>\n",
       "      <th>50%</th>\n",
       "      <td>9.000000</td>\n",
       "      <td>0.000000</td>\n",
       "      <td>0.000000</td>\n",
       "      <td>0.000000</td>\n",
       "      <td>5.340703e-02</td>\n",
       "      <td>4.031596e-02</td>\n",
       "      <td>-1.217160e-01</td>\n",
       "      <td>-1.015171e-01</td>\n",
       "      <td>1.385207e-02</td>\n",
       "      <td>-1.426696e-02</td>\n",
       "      <td>...</td>\n",
       "      <td>2.677689e-01</td>\n",
       "      <td>-2.120799e-01</td>\n",
       "      <td>-1.181667e-02</td>\n",
       "      <td>2.942021e-01</td>\n",
       "      <td>7.743482e-02</td>\n",
       "      <td>5.633191e-02</td>\n",
       "      <td>-1.599549e-01</td>\n",
       "      <td>-1.174366e-02</td>\n",
       "      <td>-1.381825e-01</td>\n",
       "      <td>1.826928e-01</td>\n",
       "    </tr>\n",
       "    <tr>\n",
       "      <th>75%</th>\n",
       "      <td>14.000000</td>\n",
       "      <td>0.000000</td>\n",
       "      <td>0.000000</td>\n",
       "      <td>0.000000</td>\n",
       "      <td>7.171751e-01</td>\n",
       "      <td>7.295320e-01</td>\n",
       "      <td>5.314981e-01</td>\n",
       "      <td>6.838353e-01</td>\n",
       "      <td>6.661759e-01</td>\n",
       "      <td>5.976919e-01</td>\n",
       "      <td>...</td>\n",
       "      <td>7.383496e-01</td>\n",
       "      <td>2.305214e-02</td>\n",
       "      <td>6.661649e-01</td>\n",
       "      <td>5.115003e-01</td>\n",
       "      <td>4.385609e-01</td>\n",
       "      <td>5.085100e-01</td>\n",
       "      <td>4.500090e-01</td>\n",
       "      <td>-1.174366e-02</td>\n",
       "      <td>2.763648e-01</td>\n",
       "      <td>5.937525e-01</td>\n",
       "    </tr>\n",
       "    <tr>\n",
       "      <th>max</th>\n",
       "      <td>19.000000</td>\n",
       "      <td>1.000000</td>\n",
       "      <td>1.000000</td>\n",
       "      <td>1.000000</td>\n",
       "      <td>2.662704e+00</td>\n",
       "      <td>2.671868e+00</td>\n",
       "      <td>9.532034e+00</td>\n",
       "      <td>3.713052e+00</td>\n",
       "      <td>3.645706e+00</td>\n",
       "      <td>3.764100e+00</td>\n",
       "      <td>...</td>\n",
       "      <td>1.337265e+00</td>\n",
       "      <td>3.236524e+00</td>\n",
       "      <td>1.703078e+00</td>\n",
       "      <td>1.042674e+00</td>\n",
       "      <td>1.940087e+00</td>\n",
       "      <td>2.029471e+00</td>\n",
       "      <td>2.205371e+00</td>\n",
       "      <td>2.841856e+00</td>\n",
       "      <td>2.862350e+00</td>\n",
       "      <td>1.826932e+00</td>\n",
       "    </tr>\n",
       "  </tbody>\n",
       "</table>\n",
       "<p>8 rows × 74 columns</p>\n",
       "</div>"
      ],
      "text/plain": [
       "       Patient age quantile  Patient addmited to regular ward (1=yes, 0=no)  \\\n",
       "count           5644.000000                                     5644.000000   \n",
       "mean               9.318391                                        0.013997   \n",
       "std                5.777903                                        0.117489   \n",
       "min                0.000000                                        0.000000   \n",
       "25%                4.000000                                        0.000000   \n",
       "50%                9.000000                                        0.000000   \n",
       "75%               14.000000                                        0.000000   \n",
       "max               19.000000                                        1.000000   \n",
       "\n",
       "       Patient addmited to semi-intensive unit (1=yes, 0=no)  \\\n",
       "count                                        5644.000000       \n",
       "mean                                            0.008859       \n",
       "std                                             0.093713       \n",
       "min                                             0.000000       \n",
       "25%                                             0.000000       \n",
       "50%                                             0.000000       \n",
       "75%                                             0.000000       \n",
       "max                                             1.000000       \n",
       "\n",
       "       Patient addmited to intensive care unit (1=yes, 0=no)    Hematocrit  \\\n",
       "count                                        5644.000000      6.030000e+02   \n",
       "mean                                            0.007264     -2.186214e-09   \n",
       "std                                             0.084929      1.000830e+00   \n",
       "min                                             0.000000     -4.501420e+00   \n",
       "25%                                             0.000000     -5.188074e-01   \n",
       "50%                                             0.000000      5.340703e-02   \n",
       "75%                                             0.000000      7.171751e-01   \n",
       "max                                             1.000000      2.662704e+00   \n",
       "\n",
       "         Hemoglobin     Platelets  Mean platelet volume   Red blood Cells  \\\n",
       "count  6.030000e+02  6.020000e+02           5.990000e+02     6.020000e+02   \n",
       "mean  -1.601319e-08 -3.535004e-10           7.438142e-09     8.424447e-09   \n",
       "std    1.000830e+00  1.000832e+00           1.000836e+00     1.000832e+00   \n",
       "min   -4.345603e+00 -2.552426e+00          -2.457575e+00    -3.970608e+00   \n",
       "25%   -5.862439e-01 -6.053457e-01          -6.624832e-01    -5.679496e-01   \n",
       "50%    4.031596e-02 -1.217160e-01          -1.015171e-01     1.385207e-02   \n",
       "75%    7.295320e-01  5.314981e-01           6.838353e-01     6.661759e-01   \n",
       "max    2.671868e+00  9.532034e+00           3.713052e+00     3.645706e+00   \n",
       "\n",
       "        Lymphocytes  ...  Hb saturation (arterial blood gases)  \\\n",
       "count  6.020000e+02  ...                          2.700000e+01   \n",
       "mean  -7.866736e-09  ...                         -1.379737e-10   \n",
       "std    1.000832e+00  ...                          1.019049e+00   \n",
       "min   -1.865070e+00  ...                         -1.999560e+00   \n",
       "25%   -7.307069e-01  ...                         -1.122574e+00   \n",
       "50%   -1.426696e-02  ...                          2.677689e-01   \n",
       "75%    5.976919e-01  ...                          7.383496e-01   \n",
       "max    3.764100e+00  ...                          1.337265e+00   \n",
       "\n",
       "       pCO2 (arterial blood gas analysis)  \\\n",
       "count                        2.700000e+01   \n",
       "mean                         8.416397e-09   \n",
       "std                          1.019049e+00   \n",
       "min                         -1.244817e+00   \n",
       "25%                         -5.348102e-01   \n",
       "50%                         -2.120799e-01   \n",
       "75%                          2.305214e-02   \n",
       "max                          3.236524e+00   \n",
       "\n",
       "       Base excess (arterial blood gas analysis)  \\\n",
       "count                               2.700000e+01   \n",
       "mean                               -1.655685e-09   \n",
       "std                                 1.019049e+00   \n",
       "min                                -3.082674e+00   \n",
       "25%                                -3.308668e-01   \n",
       "50%                                -1.181667e-02   \n",
       "75%                                 6.661649e-01   \n",
       "max                                 1.703078e+00   \n",
       "\n",
       "       pH (arterial blood gas analysis)  \\\n",
       "count                      2.700000e+01   \n",
       "mean                       4.139211e-10   \n",
       "std                        1.019049e+00   \n",
       "min                       -3.568877e+00   \n",
       "25%                       -9.210583e-02   \n",
       "50%                        2.942021e-01   \n",
       "75%                        5.115003e-01   \n",
       "max                        1.042674e+00   \n",
       "\n",
       "       Total CO2 (arterial blood gas analysis)  \\\n",
       "count                             2.700000e+01   \n",
       "mean                             -7.472139e-09   \n",
       "std                               1.019049e+00   \n",
       "min                              -2.925618e+00   \n",
       "25%                              -5.117720e-01   \n",
       "50%                               7.743482e-02   \n",
       "75%                               4.385609e-01   \n",
       "max                               1.940087e+00   \n",
       "\n",
       "       HCO3 (arterial blood gas analysis)  pO2 (arterial blood gas analysis)  \\\n",
       "count                        2.700000e+01                       2.700000e+01   \n",
       "mean                         6.070843e-09                      -2.469729e-08   \n",
       "std                          1.019049e+00                       1.019049e+00   \n",
       "min                         -2.985592e+00                      -1.175907e+00   \n",
       "25%                         -5.397211e-01                      -8.169898e-01   \n",
       "50%                          5.633191e-02                      -1.599549e-01   \n",
       "75%                          5.085100e-01                       4.500090e-01   \n",
       "max                          2.029471e+00                       2.205371e+00   \n",
       "\n",
       "       Arteiral Fio2      Phosphor  ctO2 (arterial blood gas analysis)  \n",
       "count   2.000000e+01  2.000000e+01                        2.700000e+01  \n",
       "mean    4.656613e-09  6.332993e-09                        5.243001e-09  \n",
       "std     1.025978e+00  1.025978e+00                        1.019049e+00  \n",
       "min    -1.532932e+00 -1.480526e+00                       -2.900254e+00  \n",
       "25%    -1.214975e-01 -5.527296e-01                       -4.852787e-01  \n",
       "50%    -1.174366e-02 -1.381825e-01                        1.826928e-01  \n",
       "75%    -1.174366e-02  2.763648e-01                        5.937525e-01  \n",
       "max     2.841856e+00  2.862350e+00                        1.826932e+00  \n",
       "\n",
       "[8 rows x 74 columns]"
      ]
     },
     "execution_count": 3,
     "metadata": {},
     "output_type": "execute_result"
    }
   ],
   "source": [
    "df.describe()"
   ]
  },
  {
   "cell_type": "code",
   "execution_count": 4,
   "metadata": {
    "_uuid": "789e8bc8d1baba07664d9cacddc175555eb9e935"
   },
   "outputs": [
    {
     "data": {
      "text/plain": [
       "<matplotlib.axes._subplots.AxesSubplot at 0x11c6ed160>"
      ]
     },
     "execution_count": 4,
     "metadata": {},
     "output_type": "execute_result"
    },
    {
     "data": {
      "image/png": "[encoded data removed]",
      "text/plain": [
       "<Figure size 792x648 with 2 Axes>"
      ]
     },
     "metadata": {
      "needs_background": "light"
     },
     "output_type": "display_data"
    }
   ],
   "source": [
    "# Compute the correlation matrix\n",
    "corr=df.iloc[:,1:9].corr()\n",
    "\n",
    "# Generate a mask for the upper triangle\n",
    "mask = np.zeros_like(corr, dtype=np.bool)\n",
    "mask[np.triu_indices_from(mask)] = True\n",
    "\n",
    "# Set up the matplotlib figure\n",
    "f, ax = plt.subplots(figsize=(11, 9))\n",
    "\n",
    "# Generate a custom diverging colormap\n",
    "cmap = sns.diverging_palette(220, 10, as_cmap=True)\n",
    "\n",
    "# Draw the heatmap with the mask and correct aspect ratio\n",
    "sns.heatmap(corr, mask=mask, cmap=cmap, center=0,\n",
    "            square=True, linewidths=.5, cbar_kws={\"shrink\": .5})"
   ]
  },
  {
   "cell_type": "markdown",
   "metadata": {
    "_uuid": "d6d0fda66886ad966edd82e669112babbe8b52a5"
   },
   "source": [
    "It look like GRE and GPA are the most significant variables to be admitted into a graduate program, and maybe not coincidentally GRE and GPA area heavily correlated."
   ]
  },
  {
   "cell_type": "code",
   "execution_count": 5,
   "metadata": {
    "_uuid": "a424f3a46249e9128d79b1f4fc8dbc5265740d00"
   },
   "outputs": [
    {
     "ename": "ValueError",
     "evalue": "Could not interpret input 'GRE Score'",
     "output_type": "error",
     "traceback": [
      "\u001b[0;31m---------------------------------------------------------------------------\u001b[0m",
      "\u001b[0;31mValueError\u001b[0m                                Traceback (most recent call last)",
      "\u001b[0;32m<ipython-input-5-794c28816ac8>\u001b[0m in \u001b[0;36m<module>\u001b[0;34m\u001b[0m\n\u001b[0;32m----> 1\u001b[0;31m \u001b[0msns\u001b[0m\u001b[0;34m.\u001b[0m\u001b[0mjointplot\u001b[0m\u001b[0;34m(\u001b[0m\u001b[0mx\u001b[0m\u001b[0;34m=\u001b[0m\u001b[0;34m\"GRE Score\"\u001b[0m\u001b[0;34m,\u001b[0m \u001b[0my\u001b[0m\u001b[0;34m=\u001b[0m\u001b[0;34m\"CGPA\"\u001b[0m\u001b[0;34m,\u001b[0m \u001b[0mdata\u001b[0m\u001b[0;34m=\u001b[0m\u001b[0mdf\u001b[0m\u001b[0;34m)\u001b[0m\u001b[0;34m\u001b[0m\u001b[0;34m\u001b[0m\u001b[0m\n\u001b[0m",
      "\u001b[0;32m~/opt/anaconda3/lib/python3.8/site-packages/seaborn/axisgrid.py\u001b[0m in \u001b[0;36mjointplot\u001b[0;34m(x, y, data, kind, stat_func, color, height, ratio, space, dropna, xlim, ylim, joint_kws, marginal_kws, annot_kws, **kwargs)\u001b[0m\n\u001b[1;32m   2279\u001b[0m \u001b[0;34m\u001b[0m\u001b[0m\n\u001b[1;32m   2280\u001b[0m     \u001b[0;31m# Initialize the JointGrid object\u001b[0m\u001b[0;34m\u001b[0m\u001b[0;34m\u001b[0m\u001b[0;34m\u001b[0m\u001b[0m\n\u001b[0;32m-> 2281\u001b[0;31m     grid = JointGrid(x, y, data, dropna=dropna,\n\u001b[0m\u001b[1;32m   2282\u001b[0m                      \u001b[0mheight\u001b[0m\u001b[0;34m=\u001b[0m\u001b[0mheight\u001b[0m\u001b[0;34m,\u001b[0m \u001b[0mratio\u001b[0m\u001b[0;34m=\u001b[0m\u001b[0mratio\u001b[0m\u001b[0;34m,\u001b[0m \u001b[0mspace\u001b[0m\u001b[0;34m=\u001b[0m\u001b[0mspace\u001b[0m\u001b[0;34m,\u001b[0m\u001b[0;34m\u001b[0m\u001b[0;34m\u001b[0m\u001b[0m\n\u001b[1;32m   2283\u001b[0m                      xlim=xlim, ylim=ylim)\n",
      "\u001b[0;32m~/opt/anaconda3/lib/python3.8/site-packages/seaborn/axisgrid.py\u001b[0m in \u001b[0;36m__init__\u001b[0;34m(self, x, y, data, height, ratio, space, dropna, xlim, ylim, size)\u001b[0m\n\u001b[1;32m   1700\u001b[0m             \u001b[0;32mif\u001b[0m \u001b[0misinstance\u001b[0m\u001b[0;34m(\u001b[0m\u001b[0mvar\u001b[0m\u001b[0;34m,\u001b[0m \u001b[0mstr\u001b[0m\u001b[0;34m)\u001b[0m\u001b[0;34m:\u001b[0m\u001b[0;34m\u001b[0m\u001b[0;34m\u001b[0m\u001b[0m\n\u001b[1;32m   1701\u001b[0m                 \u001b[0merr\u001b[0m \u001b[0;34m=\u001b[0m \u001b[0;34m\"Could not interpret input '{}'\"\u001b[0m\u001b[0;34m.\u001b[0m\u001b[0mformat\u001b[0m\u001b[0;34m(\u001b[0m\u001b[0mvar\u001b[0m\u001b[0;34m)\u001b[0m\u001b[0;34m\u001b[0m\u001b[0;34m\u001b[0m\u001b[0m\n\u001b[0;32m-> 1702\u001b[0;31m                 \u001b[0;32mraise\u001b[0m \u001b[0mValueError\u001b[0m\u001b[0;34m(\u001b[0m\u001b[0merr\u001b[0m\u001b[0;34m)\u001b[0m\u001b[0;34m\u001b[0m\u001b[0;34m\u001b[0m\u001b[0m\n\u001b[0m\u001b[1;32m   1703\u001b[0m \u001b[0;34m\u001b[0m\u001b[0m\n\u001b[1;32m   1704\u001b[0m         \u001b[0;31m# Find the names of the variables\u001b[0m\u001b[0;34m\u001b[0m\u001b[0;34m\u001b[0m\u001b[0;34m\u001b[0m\u001b[0m\n",
      "\u001b[0;31mValueError\u001b[0m: Could not interpret input 'GRE Score'"
     ]
    },
    {
     "data": {
      "image/png": "[encoded data removed]",
      "text/plain": [
       "<Figure size 432x432 with 3 Axes>"
      ]
     },
     "metadata": {
      "needs_background": "light"
     },
     "output_type": "display_data"
    }
   ],
   "source": [
    "sns.jointplot(x=\"GRE Score\", y=\"CGPA\", data=df)"
   ]
  },
  {
   "cell_type": "markdown",
   "metadata": {
    "_uuid": "df7b52b954fb5649eec391e620aa6877c5f114ff"
   },
   "source": [
    "Does all the features are important given different GPAs?"
   ]
  },
  {
   "cell_type": "code",
   "execution_count": null,
   "metadata": {
    "_uuid": "a0eb3fa2b762e2398813c81a6b6b53a152156708"
   },
   "outputs": [],
   "source": [
    "#Correlation for different deciles of the most important variable to be admitted\n",
    "def corr_parts(data,x,y,z,z_cutoff):\n",
    "    df_temp = data.loc[data[z] > z_cutoff]\n",
    "    return df_temp[x].corr(df_temp[y])\n",
    "\n",
    "dl_contrast = np.around(np.percentile(df['CGPA'], np.arange(0, 100, 10)),1)\n",
    "\n",
    "corr_sop = []\n",
    "for x in dl_contrast:\n",
    "    corr_sop.append(corr_parts(df,'SOP','Chance of Admit ','CGPA', x ))\n",
    "corr_lor = []\n",
    "for x in dl_contrast:\n",
    "    corr_lor.append(corr_parts(df,'LOR ','Chance of Admit ','CGPA', x ))\n",
    "    \n",
    "result = pd.DataFrame ({'decile': dl_contrast, 'sop': corr_sop, 'lor': corr_lor  })\n",
    "result = result.melt('decile', var_name='vars',  value_name='corr')\n",
    "\n",
    "# Set up the seaborn figure\n",
    "sns.factorplot(x=\"decile\", y=\"corr\", hue='vars', data=result)"
   ]
  },
  {
   "cell_type": "markdown",
   "metadata": {
    "_uuid": "5068e3c24777dbc2058145c710efda7e975ff363"
   },
   "source": [
    "The correlation of the statement of purpose and recommendation letters decay in the upper GPA deciles. It means that GPA is so strong that if you have a good one the rest of the variables do not matter that much, on the opposite if your GPA is not the best the these variables really influence the result of the admission."
   ]
  },
  {
   "cell_type": "markdown",
   "metadata": {
    "_uuid": "d9b98b83b9493bba63eee167e8326e6c6512d705"
   },
   "source": [
    "## Data Transformations"
   ]
  },
  {
   "cell_type": "code",
   "execution_count": null,
   "metadata": {
    "_uuid": "7258c163ec5233cd86dcccfaaedc444d7822b5df"
   },
   "outputs": [],
   "source": [
    "#Scaling the continuos variables\n",
    "df_scale = df.copy()\n",
    "scaler = preprocessing.StandardScaler()\n",
    "columns =df.columns[1:7]\n",
    "df_scale[columns] = scaler.fit_transform(df_scale[columns])\n",
    "df_scale.head()"
   ]
  },
  {
   "cell_type": "markdown",
   "metadata": {
    "_uuid": "28e05a52d7fd3fd07b7f0061275a4707c0e1e51f"
   },
   "source": [
    "## Clustering"
   ]
  },
  {
   "cell_type": "markdown",
   "metadata": {
    "_uuid": "aaf505d3f98ac1bb74357b411844537a554d3636"
   },
   "source": [
    "The first step is to find the number of clusters that minimize the variance but still are a practical number to analyze."
   ]
  },
  {
   "cell_type": "code",
   "execution_count": null,
   "metadata": {
    "_uuid": "1e26d20ba2e22866c73a05219a823aaa2d0c0037"
   },
   "outputs": [],
   "source": [
    "#Elbow graph\n",
    "ks = range(1, 6)\n",
    "inertias = []\n",
    "\n",
    "for k in ks:\n",
    "    # Create a KMeans instance with k clusters: model\n",
    "    model = KMeans(n_clusters=k)\n",
    "    \n",
    "    # Fit model to samples\n",
    "    model.fit(df_scale.iloc[:,1:])\n",
    "    \n",
    "    # Append the inertia to the list of inertias\n",
    "    inertias.append(model.inertia_)\n",
    "    \n",
    "# Plot ks vs inertias\n",
    "plt.plot(ks, inertias, '-o')\n",
    "plt.xlabel('number of clusters, k')\n",
    "plt.ylabel('inertia')\n",
    "plt.xticks(ks)\n",
    "plt.show()"
   ]
  },
  {
   "cell_type": "code",
   "execution_count": null,
   "metadata": {
    "_uuid": "3f7c1f23fb4cbdc2eedeaa24f3f341bedf381016"
   },
   "outputs": [],
   "source": [
    "# Create a KMeans instance with 3 clusters: model\n",
    "model = KMeans(n_clusters=3)\n",
    "\n",
    "# Fit model to points\n",
    "model.fit(df_scale.iloc[:,2:9])\n",
    "\n",
    "# Determine the cluster labels of new_points: labels\n",
    "df_scale['cluster'] = model.predict(df_scale.iloc[:,2:9])\n",
    "\n",
    "df_scale.head()"
   ]
  },
  {
   "cell_type": "markdown",
   "metadata": {
    "_uuid": "96070f9fc5b64fd23f6296af590fead78417c89c"
   },
   "source": [
    "Each register has a cluster now, lets visualized using [PCA](https://www.kaggle.com/camiloemartinez/is-the-human-freedom-index-a-good-index). \n"
   ]
  },
  {
   "cell_type": "code",
   "execution_count": null,
   "metadata": {
    "_uuid": "b28f1204bea999694cc115279639048bd1e02951"
   },
   "outputs": [],
   "source": [
    "# Create PCA instance: model\n",
    "model_pca = PCA()\n",
    "\n",
    "# Apply the fit_transform method of model to grains: pca_features\n",
    "pca_features = model_pca.fit_transform(df_scale.iloc[:,2:9])\n",
    "\n",
    "# Assign 0th column of pca_features: xs\n",
    "xs = pca_features[:,0]\n",
    "\n",
    "# Assign 1st column of pca_features: ys\n",
    "ys = pca_features[:,1]\n",
    "\n",
    "# Scatter plot xs vs ys\n",
    "sns.scatterplot(x=xs, y=ys, hue=\"cluster\", data=df_scale)"
   ]
  },
  {
   "cell_type": "markdown",
   "metadata": {
    "_uuid": "7f05d0645a4803ed56a7852b75881e347416fcbf"
   },
   "source": [
    "The cluster works nice! The tree of them represent a significative population and different to the other populations."
   ]
  },
  {
   "cell_type": "code",
   "execution_count": null,
   "metadata": {
    "_uuid": "8a8f2bc140879a0887d183d16f0f1d2de4c56d1c"
   },
   "outputs": [],
   "source": [
    "sns.boxplot(x=\"cluster\", y=\"Chance of Admit \", data=df_scale, palette=\"Set2\" )"
   ]
  },
  {
   "cell_type": "markdown",
   "metadata": {
    "_uuid": "479fdcc99734a7c6fecb0477109ff69c25498832"
   },
   "source": [
    "In order to understand, explain and give a meaningful name we explore the centroids of each cluster."
   ]
  },
  {
   "cell_type": "code",
   "execution_count": null,
   "metadata": {
    "_uuid": "d4a1e88223b2069b7f6852c93dc5ab5c1a6fa6fd"
   },
   "outputs": [],
   "source": [
    "centroids = model.cluster_centers_\n",
    "df_scale.iloc[:,1:10].groupby(['cluster']).mean()"
   ]
  },
  {
   "cell_type": "code",
   "execution_count": null,
   "metadata": {
    "_uuid": "5c6d2955963328557c9ac68c57b8b5be99491515"
   },
   "outputs": [],
   "source": [
    "sns.heatmap(df_scale.iloc[:,1:10].groupby(['cluster']).mean(), cmap=\"YlGnBu\")"
   ]
  },
  {
   "cell_type": "markdown",
   "metadata": {
    "_uuid": "e183e4cdcf299f4034e47f1d3fdbe3259ec928dc"
   },
   "source": [
    "- Cluster 0: **Top** *students, higher score in all the variables than rest of the population.*\n",
    "- Cluster 1: **Average** *students, almost average in each variable but some of them have a good score in one variable in particular that make them more eligible in the admission.*\n",
    "- Cluster 2: **Aspirational** *student, below the average of the population. In limited cases eligible given extraordinary score in a particular variable.*\n"
   ]
  },
  {
   "cell_type": "code",
   "execution_count": null,
   "metadata": {
    "_uuid": "2e77796e1a661f4621c1e3db487365527f2116e3"
   },
   "outputs": [],
   "source": [
    "pd.DataFrame(df_scale['cluster'].value_counts(dropna=False))"
   ]
  },
  {
   "cell_type": "code",
   "execution_count": null,
   "metadata": {
    "_uuid": "fe6157bdcd47594af79f54f1d125f674244136af"
   },
   "outputs": [],
   "source": [
    "g = sns.PairGrid(df_scale.iloc[:,1:10], hue=\"cluster\", palette=\"Set2\")\n",
    "g.map(plt.scatter);"
   ]
  },
  {
   "cell_type": "markdown",
   "metadata": {
    "_uuid": "258321790651238b0405afd4b09337d08418ba59"
   },
   "source": [
    "The scatter plots show the segmentation separate very well the population across all the variables. Which is the desire outcome of the exercise."
   ]
  },
  {
   "cell_type": "markdown",
   "metadata": {
    "_uuid": "eaeb8b7f2ba9599a22071e7a2e85b6de296849f8"
   },
   "source": []
  },
  {
   "cell_type": "code",
   "execution_count": null,
   "metadata": {},
   "outputs": [],
   "source": []
  }
 ],
 "metadata": {
  "kernelspec": {
   "display_name": "Python 3",
   "language": "python",
   "name": "python3"
  },
  "language_info": {
   "codemirror_mode": {
    "name": "ipython",
    "version": 3
   },
   "file_extension": ".py",
   "mimetype": "text/x-python",
   "name": "python",
   "nbconvert_exporter": "python",
   "pygments_lexer": "ipython3",
   "version": "3.8.3"
  }
 },
 "nbformat": 4,
 "nbformat_minor": 1
}
