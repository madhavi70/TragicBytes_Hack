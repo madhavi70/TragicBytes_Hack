{
 "cells": [
  {
   "cell_type": "markdown",
   "metadata": {
    "_uuid": "f0cf113c0af8c9137e28993d7139fb4fc595d0e2"
   },
   "source": [
    "## Objective\n",
    "Using unsupervised machine learning techniques the idea is to identify different profiles into the people who applies to the graduate program."
   ]
  },
  {
   "cell_type": "code",
   "execution_count": 1,
   "metadata": {
    "_cell_guid": "b1076dfc-b9ad-4769-8c92-a6c4dae69d19",
    "_uuid": "8f2839f25d086af736a60e9eeb907d3b93b6e0e5"
   },
   "outputs": [
    {
     "name": "stdout",
     "output_type": "stream",
     "text": [
      "['.DS_Store', 'README.md', 'TragicBytes_hack.ipynb', 'RaceDataEntryCRDT.csv', '.gitattributes', '.ipynb_checkpoints', 'datasets_574076_1040311_dataset.xlsx', '.git']\n",
      "/Users/Madhavi/Documents/GitHub/TragicBytes_Hack\n"
     ]
    }
   ],
   "source": [
    "import numpy as np                # linear algebra\n",
    "import pandas as pd               # data frames\n",
    "import seaborn as sns             # visualizations\n",
    "import matplotlib.pyplot as plt   # visualizations\n",
    "import xlrd\n",
    "import unicodecsv\n",
    "import scipy.stats # statistics\n",
    "from sklearn import preprocessing\n",
    "from sklearn.cluster import KMeans\n",
    "from sklearn.decomposition import PCA\n",
    "\n",
    "import os\n",
    "#print(os.listdir(\"/Users/Madhavi/documents/\")\n",
    "path = os.getcwd()\n",
    "\n",
    "print(os.listdir(path))\n",
    "\n",
    "print(path)\n",
    "#for filename in os.listdir(path):\n",
    "#filepath = os.path.join(path, \"datasets_574076_1040311_dataset.xlsx\")\n",
    "filepath = os.path.join(path, \"RaceDataEntryCRDT.csv\")"
   ]
  },
  {
   "cell_type": "code",
   "execution_count": 2,
   "metadata": {
    "_cell_guid": "79c7e3d0-c299-4dcb-8224-4455121ee9b0",
    "_uuid": "d629ff2d2480ee46fbb7e2d37f6b5fab8052498a"
   },
   "outputs": [
    {
     "name": "stdout",
     "output_type": "stream",
     "text": [
      "/Users/Madhavi/Documents/GitHub/TragicBytes_Hack/RaceDataEntryCRDT.csv\n",
      "          Date State Cases_Total Cases_White  Cases_Black  Cases_LatinX  \\\n",
      "0     20200809    AK        4473         988        117.0           NaN   \n",
      "1     20200809    AL      101334       30405      26613.0           NaN   \n",
      "2     20200809    AR       49383       25178      10569.0           NaN   \n",
      "3     20200809    AS         NaN         NaN          NaN           NaN   \n",
      "4     20200809    AZ      186923       33934       4539.0       47028.0   \n",
      "...        ...   ...         ...         ...          ...           ...   \n",
      "1843  20200419    VT         NaN         NaN          NaN           NaN   \n",
      "1844  20200419    WA       11790        3703        464.0        1835.0   \n",
      "1845  20200419    WI        4346        2214       1025.0           NaN   \n",
      "1846  20200419    WV         NaN         NaN          NaN           NaN   \n",
      "1847  20200419    WY         NaN         NaN          NaN           NaN   \n",
      "\n",
      "      Cases_Asian  Cases_AIAN  Cases_NHPI  Cases_Multiracial  ...  \\\n",
      "0           103.0       488.0       149.0              107.0  ...   \n",
      "1           371.0         NaN         NaN                NaN  ...   \n",
      "2           686.0       143.0      2220.0                NaN  ...   \n",
      "3             NaN         NaN         NaN                NaN  ...   \n",
      "4          1599.0     10289.0         NaN                NaN  ...   \n",
      "...           ...         ...         ...                ...  ...   \n",
      "1843          NaN         NaN         NaN                NaN  ...   \n",
      "1844        691.0        97.0        95.0                1.0  ...   \n",
      "1845        116.0        37.0         NaN                NaN  ...   \n",
      "1846          NaN         NaN         NaN                NaN  ...   \n",
      "1847          NaN         NaN         NaN                NaN  ...   \n",
      "\n",
      "      Deaths_LatinX  Deaths_Asian  Deaths_AIAN  Deaths_NHPI  \\\n",
      "0               NaN           2.0          9.0          4.0   \n",
      "1               NaN           4.0          NaN          NaN   \n",
      "2               NaN           8.0          2.0         35.0   \n",
      "3               NaN           NaN          NaN          NaN   \n",
      "4            1189.0          49.0        481.0          NaN   \n",
      "...             ...           ...          ...          ...   \n",
      "1843            NaN           NaN          NaN          NaN   \n",
      "1844           38.0          59.0          7.0          3.0   \n",
      "1845            NaN           5.0          2.0          NaN   \n",
      "1846            NaN           NaN          NaN          NaN   \n",
      "1847            NaN           NaN          NaN          NaN   \n",
      "\n",
      "      Deaths_Multiracial  Deaths_Other  Deaths_Unknown  \\\n",
      "0                    0.0           0.0             0.0   \n",
      "1                    NaN          36.0           122.0   \n",
      "2                    NaN          33.0             0.0   \n",
      "3                    NaN           NaN             NaN   \n",
      "4                    NaN          70.0           603.0   \n",
      "...                  ...           ...             ...   \n",
      "1843                 NaN           NaN             NaN   \n",
      "1844                 7.0          12.0            78.0   \n",
      "1845                 NaN           0.0             1.0   \n",
      "1846                 NaN           NaN             NaN   \n",
      "1847                 NaN           NaN             NaN   \n",
      "\n",
      "      Deaths_Ethnicity_Hispanic  Deaths_Ethnicity_NonHispanic  \\\n",
      "0                           0.0                          26.0   \n",
      "1                          52.0                        1454.0   \n",
      "2                          48.0                         496.0   \n",
      "3                           NaN                           NaN   \n",
      "4                        1189.0                        2358.0   \n",
      "...                         ...                           ...   \n",
      "1843                        NaN                           NaN   \n",
      "1844                        NaN                           NaN   \n",
      "1845                       11.0                         207.0   \n",
      "1846                        NaN                           NaN   \n",
      "1847                        NaN                           NaN   \n",
      "\n",
      "      Deaths_Ethnicity_Unknown  \n",
      "0                          0.0  \n",
      "1                        261.0  \n",
      "2                          0.0  \n",
      "3                          NaN  \n",
      "4                        603.0  \n",
      "...                        ...  \n",
      "1843                       NaN  \n",
      "1844                       NaN  \n",
      "1845                       2.0  \n",
      "1846                       NaN  \n",
      "1847                       NaN  \n",
      "\n",
      "[1848 rows x 28 columns]\n",
      "       Date State Cases_Total Cases_White  Cases_Black  Cases_LatinX  \\\n",
      "0  20200809    AK        4473         988        117.0           NaN   \n",
      "1  20200809    AL      101334       30405      26613.0           NaN   \n",
      "2  20200809    AR       49383       25178      10569.0           NaN   \n",
      "3  20200809    AS         NaN         NaN          NaN           NaN   \n",
      "4  20200809    AZ      186923       33934       4539.0       47028.0   \n",
      "\n",
      "   Cases_Asian  Cases_AIAN  Cases_NHPI  Cases_Multiracial  ...  Deaths_LatinX  \\\n",
      "0        103.0       488.0       149.0              107.0  ...            NaN   \n",
      "1        371.0         NaN         NaN                NaN  ...            NaN   \n",
      "2        686.0       143.0      2220.0                NaN  ...            NaN   \n",
      "3          NaN         NaN         NaN                NaN  ...            NaN   \n",
      "4       1599.0     10289.0         NaN                NaN  ...         1189.0   \n",
      "\n",
      "   Deaths_Asian  Deaths_AIAN  Deaths_NHPI  Deaths_Multiracial  Deaths_Other  \\\n",
      "0           2.0          9.0          4.0                 0.0           0.0   \n",
      "1           4.0          NaN          NaN                 NaN          36.0   \n",
      "2           8.0          2.0         35.0                 NaN          33.0   \n",
      "3           NaN          NaN          NaN                 NaN           NaN   \n",
      "4          49.0        481.0          NaN                 NaN          70.0   \n",
      "\n",
      "   Deaths_Unknown  Deaths_Ethnicity_Hispanic  Deaths_Ethnicity_NonHispanic  \\\n",
      "0             0.0                        0.0                          26.0   \n",
      "1           122.0                       52.0                        1454.0   \n",
      "2             0.0                       48.0                         496.0   \n",
      "3             NaN                        NaN                           NaN   \n",
      "4           603.0                     1189.0                        2358.0   \n",
      "\n",
      "   Deaths_Ethnicity_Unknown  \n",
      "0                       0.0  \n",
      "1                     261.0  \n",
      "2                       0.0  \n",
      "3                       NaN  \n",
      "4                     603.0  \n",
      "\n",
      "[5 rows x 28 columns]\n",
      "<class 'pandas.core.frame.DataFrame'>\n",
      "RangeIndex: 1848 entries, 0 to 1847\n",
      "Data columns (total 28 columns):\n",
      " #   Column                        Non-Null Count  Dtype  \n",
      "---  ------                        --------------  -----  \n",
      " 0   Date                          1848 non-null   int64  \n",
      " 1   State                         1848 non-null   object \n",
      " 2   Cases_Total                   1734 non-null   object \n",
      " 3   Cases_White                   1556 non-null   object \n",
      " 4   Cases_Black                   1536 non-null   float64\n",
      " 5   Cases_LatinX                  674 non-null    float64\n",
      " 6   Cases_Asian                   1401 non-null   float64\n",
      " 7   Cases_AIAN                    971 non-null    float64\n",
      " 8   Cases_NHPI                    636 non-null    float64\n",
      " 9   Cases_Multiracial             484 non-null    float64\n",
      " 10  Cases_Other                   1477 non-null   float64\n",
      " 11  Cases_Unknown                 1705 non-null   float64\n",
      " 12  Cases_Ethnicity_Hispanic      1416 non-null   float64\n",
      " 13  Cases_Ethnicity_NonHispanic   1416 non-null   float64\n",
      " 14  Cases_Ethnicity_Unknown       1415 non-null   float64\n",
      " 15  Deaths_Total                  1693 non-null   float64\n",
      " 16  Deaths_White                  1447 non-null   float64\n",
      " 17  Deaths_Black                  1387 non-null   float64\n",
      " 18  Deaths_LatinX                 675 non-null    float64\n",
      " 19  Deaths_Asian                  1242 non-null   float64\n",
      " 20  Deaths_AIAN                   737 non-null    float64\n",
      " 21  Deaths_NHPI                   433 non-null    float64\n",
      " 22  Deaths_Multiracial            375 non-null    float64\n",
      " 23  Deaths_Other                  1300 non-null   float64\n",
      " 24  Deaths_Unknown                1656 non-null   float64\n",
      " 25  Deaths_Ethnicity_Hispanic     1335 non-null   float64\n",
      " 26  Deaths_Ethnicity_NonHispanic  1341 non-null   float64\n",
      " 27  Deaths_Ethnicity_Unknown      1363 non-null   float64\n",
      "dtypes: float64(24), int64(1), object(3)\n",
      "memory usage: 404.4+ KB\n",
      "None\n",
      "(1848, 28)\n"
     ]
    }
   ],
   "source": [
    "print(filepath)\n",
    "#xls = pd.ExcelFile(filepath)\n",
    "#df = pd.read_excel(xls, 'All')\n",
    "df = pd.read_csv(filepath)\n",
    "  \n",
    "print(df) \n",
    "#df = pd.read_excel(\"/Users/Madhavi/documents/datasets_574076_1040311_dataset.xlsx\")\n",
    "\n",
    "# Print the head of df\n",
    "print(df.head())\n",
    "\n",
    "# Print the info of df\n",
    "print(df.info())\n",
    "\n",
    "# Print the shape of df\n",
    "print(df.shape)"
   ]
  },
  {
   "cell_type": "markdown",
   "metadata": {
    "_uuid": "f26396c2d00622dd7797fea7542e47766715c93a"
   },
   "source": [
    "The dataset has 400 aspirants with 9 variables consider for its admission."
   ]
  },
  {
   "cell_type": "markdown",
   "metadata": {
    "_uuid": "68df552065aa15aa7e7b9f50e82f788fe54c6b11"
   },
   "source": [
    "## Basic Exploratory Data Analysis\n",
    "\n",
    "More about [preparation and exploratory analysis](https://www.kaggle.com/camiloemartinez/lucky-charms-lovers)."
   ]
  },
  {
   "cell_type": "code",
   "execution_count": 3,
   "metadata": {
    "_uuid": "2fd833a5970e7c62108f7028dc3ea2fef5a354d4"
   },
   "outputs": [
    {
     "data": {
      "text/html": [
       "<div>\n",
       "<style scoped>\n",
       "    .dataframe tbody tr th:only-of-type {\n",
       "        vertical-align: middle;\n",
       "    }\n",
       "\n",
       "    .dataframe tbody tr th {\n",
       "        vertical-align: top;\n",
       "    }\n",
       "\n",
       "    .dataframe thead th {\n",
       "        text-align: right;\n",
       "    }\n",
       "</style>\n",
       "<table border=\"1\" class=\"dataframe\">\n",
       "  <thead>\n",
       "    <tr style=\"text-align: right;\">\n",
       "      <th></th>\n",
       "      <th>Date</th>\n",
       "      <th>Cases_Black</th>\n",
       "      <th>Cases_LatinX</th>\n",
       "      <th>Cases_Asian</th>\n",
       "      <th>Cases_AIAN</th>\n",
       "      <th>Cases_NHPI</th>\n",
       "      <th>Cases_Multiracial</th>\n",
       "      <th>Cases_Other</th>\n",
       "      <th>Cases_Unknown</th>\n",
       "      <th>Cases_Ethnicity_Hispanic</th>\n",
       "      <th>...</th>\n",
       "      <th>Deaths_LatinX</th>\n",
       "      <th>Deaths_Asian</th>\n",
       "      <th>Deaths_AIAN</th>\n",
       "      <th>Deaths_NHPI</th>\n",
       "      <th>Deaths_Multiracial</th>\n",
       "      <th>Deaths_Other</th>\n",
       "      <th>Deaths_Unknown</th>\n",
       "      <th>Deaths_Ethnicity_Hispanic</th>\n",
       "      <th>Deaths_Ethnicity_NonHispanic</th>\n",
       "      <th>Deaths_Ethnicity_Unknown</th>\n",
       "    </tr>\n",
       "  </thead>\n",
       "  <tbody>\n",
       "    <tr>\n",
       "      <th>count</th>\n",
       "      <td>1.848000e+03</td>\n",
       "      <td>1536.000000</td>\n",
       "      <td>674.000000</td>\n",
       "      <td>1401.000000</td>\n",
       "      <td>971.000000</td>\n",
       "      <td>636.000000</td>\n",
       "      <td>484.000000</td>\n",
       "      <td>1477.000000</td>\n",
       "      <td>1705.000000</td>\n",
       "      <td>1416.000000</td>\n",
       "      <td>...</td>\n",
       "      <td>675.000000</td>\n",
       "      <td>1242.000000</td>\n",
       "      <td>737.000000</td>\n",
       "      <td>433.000000</td>\n",
       "      <td>375.000000</td>\n",
       "      <td>1300.000000</td>\n",
       "      <td>1656.000000</td>\n",
       "      <td>1335.000000</td>\n",
       "      <td>1341.000000</td>\n",
       "      <td>1363.000000</td>\n",
       "    </tr>\n",
       "    <tr>\n",
       "      <th>mean</th>\n",
       "      <td>2.020061e+07</td>\n",
       "      <td>5969.220703</td>\n",
       "      <td>15182.109792</td>\n",
       "      <td>1008.088508</td>\n",
       "      <td>558.808445</td>\n",
       "      <td>243.273585</td>\n",
       "      <td>724.946281</td>\n",
       "      <td>2534.785376</td>\n",
       "      <td>20010.875073</td>\n",
       "      <td>9507.657486</td>\n",
       "      <td>...</td>\n",
       "      <td>704.072593</td>\n",
       "      <td>105.080515</td>\n",
       "      <td>26.409769</td>\n",
       "      <td>7.113164</td>\n",
       "      <td>19.477333</td>\n",
       "      <td>84.900769</td>\n",
       "      <td>204.434783</td>\n",
       "      <td>373.883895</td>\n",
       "      <td>1804.659955</td>\n",
       "      <td>264.562729</td>\n",
       "    </tr>\n",
       "    <tr>\n",
       "      <th>std</th>\n",
       "      <td>1.145822e+02</td>\n",
       "      <td>8606.149459</td>\n",
       "      <td>25127.847804</td>\n",
       "      <td>1822.630023</td>\n",
       "      <td>1412.689861</td>\n",
       "      <td>403.366394</td>\n",
       "      <td>1192.986501</td>\n",
       "      <td>4646.070801</td>\n",
       "      <td>57793.423647</td>\n",
       "      <td>18497.470910</td>\n",
       "      <td>...</td>\n",
       "      <td>1364.553197</td>\n",
       "      <td>273.178978</td>\n",
       "      <td>66.723291</td>\n",
       "      <td>8.958941</td>\n",
       "      <td>26.502122</td>\n",
       "      <td>255.344104</td>\n",
       "      <td>648.694908</td>\n",
       "      <td>1017.477218</td>\n",
       "      <td>2955.526171</td>\n",
       "      <td>616.959977</td>\n",
       "    </tr>\n",
       "    <tr>\n",
       "      <th>min</th>\n",
       "      <td>2.020042e+07</td>\n",
       "      <td>1.000000</td>\n",
       "      <td>0.000000</td>\n",
       "      <td>0.000000</td>\n",
       "      <td>0.000000</td>\n",
       "      <td>0.000000</td>\n",
       "      <td>0.000000</td>\n",
       "      <td>0.000000</td>\n",
       "      <td>0.000000</td>\n",
       "      <td>2.000000</td>\n",
       "      <td>...</td>\n",
       "      <td>1.000000</td>\n",
       "      <td>0.000000</td>\n",
       "      <td>0.000000</td>\n",
       "      <td>0.000000</td>\n",
       "      <td>0.000000</td>\n",
       "      <td>0.000000</td>\n",
       "      <td>0.000000</td>\n",
       "      <td>0.000000</td>\n",
       "      <td>5.000000</td>\n",
       "      <td>0.000000</td>\n",
       "    </tr>\n",
       "    <tr>\n",
       "      <th>25%</th>\n",
       "      <td>2.020052e+07</td>\n",
       "      <td>531.250000</td>\n",
       "      <td>1693.750000</td>\n",
       "      <td>112.000000</td>\n",
       "      <td>46.500000</td>\n",
       "      <td>29.000000</td>\n",
       "      <td>77.000000</td>\n",
       "      <td>225.000000</td>\n",
       "      <td>667.000000</td>\n",
       "      <td>1134.000000</td>\n",
       "      <td>...</td>\n",
       "      <td>54.000000</td>\n",
       "      <td>4.000000</td>\n",
       "      <td>2.000000</td>\n",
       "      <td>1.000000</td>\n",
       "      <td>2.000000</td>\n",
       "      <td>5.000000</td>\n",
       "      <td>11.000000</td>\n",
       "      <td>19.000000</td>\n",
       "      <td>286.000000</td>\n",
       "      <td>17.000000</td>\n",
       "    </tr>\n",
       "    <tr>\n",
       "      <th>50%</th>\n",
       "      <td>2.020061e+07</td>\n",
       "      <td>2412.000000</td>\n",
       "      <td>6877.000000</td>\n",
       "      <td>469.000000</td>\n",
       "      <td>143.000000</td>\n",
       "      <td>87.500000</td>\n",
       "      <td>295.500000</td>\n",
       "      <td>813.000000</td>\n",
       "      <td>4181.000000</td>\n",
       "      <td>4340.000000</td>\n",
       "      <td>...</td>\n",
       "      <td>171.000000</td>\n",
       "      <td>15.000000</td>\n",
       "      <td>7.000000</td>\n",
       "      <td>4.000000</td>\n",
       "      <td>9.000000</td>\n",
       "      <td>15.000000</td>\n",
       "      <td>43.000000</td>\n",
       "      <td>58.000000</td>\n",
       "      <td>689.000000</td>\n",
       "      <td>64.000000</td>\n",
       "    </tr>\n",
       "    <tr>\n",
       "      <th>75%</th>\n",
       "      <td>2.020071e+07</td>\n",
       "      <td>8085.500000</td>\n",
       "      <td>18277.500000</td>\n",
       "      <td>1152.000000</td>\n",
       "      <td>354.000000</td>\n",
       "      <td>267.250000</td>\n",
       "      <td>730.250000</td>\n",
       "      <td>3242.000000</td>\n",
       "      <td>13196.000000</td>\n",
       "      <td>9355.250000</td>\n",
       "      <td>...</td>\n",
       "      <td>541.000000</td>\n",
       "      <td>62.750000</td>\n",
       "      <td>19.000000</td>\n",
       "      <td>9.000000</td>\n",
       "      <td>22.500000</td>\n",
       "      <td>39.000000</td>\n",
       "      <td>115.000000</td>\n",
       "      <td>198.000000</td>\n",
       "      <td>2008.000000</td>\n",
       "      <td>163.000000</td>\n",
       "    </tr>\n",
       "    <tr>\n",
       "      <th>max</th>\n",
       "      <td>2.020081e+07</td>\n",
       "      <td>75929.000000</td>\n",
       "      <td>213410.000000</td>\n",
       "      <td>19659.000000</td>\n",
       "      <td>10289.000000</td>\n",
       "      <td>2220.000000</td>\n",
       "      <td>6406.000000</td>\n",
       "      <td>47023.000000</td>\n",
       "      <td>452266.000000</td>\n",
       "      <td>213410.000000</td>\n",
       "      <td>...</td>\n",
       "      <td>6721.000000</td>\n",
       "      <td>1702.000000</td>\n",
       "      <td>512.000000</td>\n",
       "      <td>50.000000</td>\n",
       "      <td>111.000000</td>\n",
       "      <td>1850.000000</td>\n",
       "      <td>7929.000000</td>\n",
       "      <td>6721.000000</td>\n",
       "      <td>18593.000000</td>\n",
       "      <td>5426.000000</td>\n",
       "    </tr>\n",
       "  </tbody>\n",
       "</table>\n",
       "<p>8 rows × 25 columns</p>\n",
       "</div>"
      ],
      "text/plain": [
       "               Date   Cases_Black   Cases_LatinX   Cases_Asian    Cases_AIAN  \\\n",
       "count  1.848000e+03   1536.000000     674.000000   1401.000000    971.000000   \n",
       "mean   2.020061e+07   5969.220703   15182.109792   1008.088508    558.808445   \n",
       "std    1.145822e+02   8606.149459   25127.847804   1822.630023   1412.689861   \n",
       "min    2.020042e+07      1.000000       0.000000      0.000000      0.000000   \n",
       "25%    2.020052e+07    531.250000    1693.750000    112.000000     46.500000   \n",
       "50%    2.020061e+07   2412.000000    6877.000000    469.000000    143.000000   \n",
       "75%    2.020071e+07   8085.500000   18277.500000   1152.000000    354.000000   \n",
       "max    2.020081e+07  75929.000000  213410.000000  19659.000000  10289.000000   \n",
       "\n",
       "        Cases_NHPI  Cases_Multiracial   Cases_Other  Cases_Unknown  \\\n",
       "count   636.000000         484.000000   1477.000000    1705.000000   \n",
       "mean    243.273585         724.946281   2534.785376   20010.875073   \n",
       "std     403.366394        1192.986501   4646.070801   57793.423647   \n",
       "min       0.000000           0.000000      0.000000       0.000000   \n",
       "25%      29.000000          77.000000    225.000000     667.000000   \n",
       "50%      87.500000         295.500000    813.000000    4181.000000   \n",
       "75%     267.250000         730.250000   3242.000000   13196.000000   \n",
       "max    2220.000000        6406.000000  47023.000000  452266.000000   \n",
       "\n",
       "       Cases_Ethnicity_Hispanic  ...  Deaths_LatinX  Deaths_Asian  \\\n",
       "count               1416.000000  ...     675.000000   1242.000000   \n",
       "mean                9507.657486  ...     704.072593    105.080515   \n",
       "std                18497.470910  ...    1364.553197    273.178978   \n",
       "min                    2.000000  ...       1.000000      0.000000   \n",
       "25%                 1134.000000  ...      54.000000      4.000000   \n",
       "50%                 4340.000000  ...     171.000000     15.000000   \n",
       "75%                 9355.250000  ...     541.000000     62.750000   \n",
       "max               213410.000000  ...    6721.000000   1702.000000   \n",
       "\n",
       "       Deaths_AIAN  Deaths_NHPI  Deaths_Multiracial  Deaths_Other  \\\n",
       "count   737.000000   433.000000          375.000000   1300.000000   \n",
       "mean     26.409769     7.113164           19.477333     84.900769   \n",
       "std      66.723291     8.958941           26.502122    255.344104   \n",
       "min       0.000000     0.000000            0.000000      0.000000   \n",
       "25%       2.000000     1.000000            2.000000      5.000000   \n",
       "50%       7.000000     4.000000            9.000000     15.000000   \n",
       "75%      19.000000     9.000000           22.500000     39.000000   \n",
       "max     512.000000    50.000000          111.000000   1850.000000   \n",
       "\n",
       "       Deaths_Unknown  Deaths_Ethnicity_Hispanic  \\\n",
       "count     1656.000000                1335.000000   \n",
       "mean       204.434783                 373.883895   \n",
       "std        648.694908                1017.477218   \n",
       "min          0.000000                   0.000000   \n",
       "25%         11.000000                  19.000000   \n",
       "50%         43.000000                  58.000000   \n",
       "75%        115.000000                 198.000000   \n",
       "max       7929.000000                6721.000000   \n",
       "\n",
       "       Deaths_Ethnicity_NonHispanic  Deaths_Ethnicity_Unknown  \n",
       "count                   1341.000000               1363.000000  \n",
       "mean                    1804.659955                264.562729  \n",
       "std                     2955.526171                616.959977  \n",
       "min                        5.000000                  0.000000  \n",
       "25%                      286.000000                 17.000000  \n",
       "50%                      689.000000                 64.000000  \n",
       "75%                     2008.000000                163.000000  \n",
       "max                    18593.000000               5426.000000  \n",
       "\n",
       "[8 rows x 25 columns]"
      ]
     },
     "execution_count": 3,
     "metadata": {},
     "output_type": "execute_result"
    }
   ],
   "source": [
    "df.describe()"
   ]
  },
  {
   "cell_type": "code",
   "execution_count": 4,
   "metadata": {
    "_uuid": "789e8bc8d1baba07664d9cacddc175555eb9e935"
   },
   "outputs": [
    {
     "data": {
      "text/plain": [
       "<matplotlib.axes._subplots.AxesSubplot at 0x1251f9040>"
      ]
     },
     "execution_count": 4,
     "metadata": {},
     "output_type": "execute_result"
    },
    {
     "data": {
      "image/png": "[encoded data removed]",
      "text/plain": [
       "<Figure size 792x648 with 2 Axes>"
      ]
     },
     "metadata": {
      "needs_background": "light"
     },
     "output_type": "display_data"
    }
   ],
   "source": [
    "# Compute the correlation matrix\n",
    "corr=df.iloc[:,1:9].corr()\n",
    "\n",
    "# Generate a mask for the upper triangle\n",
    "mask = np.zeros_like(corr, dtype=np.bool)\n",
    "mask[np.triu_indices_from(mask)] = True\n",
    "\n",
    "# Set up the matplotlib figure\n",
    "f, ax = plt.subplots(figsize=(11, 9))\n",
    "\n",
    "# Generate a custom diverging colormap\n",
    "cmap = sns.diverging_palette(220, 10, as_cmap=True)\n",
    "\n",
    "# Draw the heatmap with the mask and correct aspect ratio\n",
    "sns.heatmap(corr, mask=mask, cmap=cmap, center=0,\n",
    "            square=True, linewidths=.5, cbar_kws={\"shrink\": .5})"
   ]
  },
  {
   "cell_type": "markdown",
   "metadata": {
    "_uuid": "d6d0fda66886ad966edd82e669112babbe8b52a5"
   },
   "source": [
    "It look like GRE and GPA are the most significant variables to be admitted into a graduate program, and maybe not coincidentally GRE and GPA area heavily correlated."
   ]
  },
  {
   "cell_type": "code",
   "execution_count": 5,
   "metadata": {
    "_uuid": "a424f3a46249e9128d79b1f4fc8dbc5265740d00"
   },
   "outputs": [
    {
     "ename": "ValueError",
     "evalue": "Could not interpret input 'GRE Score'",
     "output_type": "error",
     "traceback": [
      "\u001b[0;31m---------------------------------------------------------------------------\u001b[0m",
      "\u001b[0;31mValueError\u001b[0m                                Traceback (most recent call last)",
      "\u001b[0;32m<ipython-input-5-794c28816ac8>\u001b[0m in \u001b[0;36m<module>\u001b[0;34m\u001b[0m\n\u001b[0;32m----> 1\u001b[0;31m \u001b[0msns\u001b[0m\u001b[0;34m.\u001b[0m\u001b[0mjointplot\u001b[0m\u001b[0;34m(\u001b[0m\u001b[0mx\u001b[0m\u001b[0;34m=\u001b[0m\u001b[0;34m\"GRE Score\"\u001b[0m\u001b[0;34m,\u001b[0m \u001b[0my\u001b[0m\u001b[0;34m=\u001b[0m\u001b[0;34m\"CGPA\"\u001b[0m\u001b[0;34m,\u001b[0m \u001b[0mdata\u001b[0m\u001b[0;34m=\u001b[0m\u001b[0mdf\u001b[0m\u001b[0;34m)\u001b[0m\u001b[0;34m\u001b[0m\u001b[0;34m\u001b[0m\u001b[0m\n\u001b[0m",
      "\u001b[0;32m~/opt/anaconda3/lib/python3.8/site-packages/seaborn/axisgrid.py\u001b[0m in \u001b[0;36mjointplot\u001b[0;34m(x, y, data, kind, stat_func, color, height, ratio, space, dropna, xlim, ylim, joint_kws, marginal_kws, annot_kws, **kwargs)\u001b[0m\n\u001b[1;32m   2279\u001b[0m \u001b[0;34m\u001b[0m\u001b[0m\n\u001b[1;32m   2280\u001b[0m     \u001b[0;31m# Initialize the JointGrid object\u001b[0m\u001b[0;34m\u001b[0m\u001b[0;34m\u001b[0m\u001b[0;34m\u001b[0m\u001b[0m\n\u001b[0;32m-> 2281\u001b[0;31m     grid = JointGrid(x, y, data, dropna=dropna,\n\u001b[0m\u001b[1;32m   2282\u001b[0m                      \u001b[0mheight\u001b[0m\u001b[0;34m=\u001b[0m\u001b[0mheight\u001b[0m\u001b[0;34m,\u001b[0m \u001b[0mratio\u001b[0m\u001b[0;34m=\u001b[0m\u001b[0mratio\u001b[0m\u001b[0;34m,\u001b[0m \u001b[0mspace\u001b[0m\u001b[0;34m=\u001b[0m\u001b[0mspace\u001b[0m\u001b[0;34m,\u001b[0m\u001b[0;34m\u001b[0m\u001b[0;34m\u001b[0m\u001b[0m\n\u001b[1;32m   2283\u001b[0m                      xlim=xlim, ylim=ylim)\n",
      "\u001b[0;32m~/opt/anaconda3/lib/python3.8/site-packages/seaborn/axisgrid.py\u001b[0m in \u001b[0;36m__init__\u001b[0;34m(self, x, y, data, height, ratio, space, dropna, xlim, ylim, size)\u001b[0m\n\u001b[1;32m   1700\u001b[0m             \u001b[0;32mif\u001b[0m \u001b[0misinstance\u001b[0m\u001b[0;34m(\u001b[0m\u001b[0mvar\u001b[0m\u001b[0;34m,\u001b[0m \u001b[0mstr\u001b[0m\u001b[0;34m)\u001b[0m\u001b[0;34m:\u001b[0m\u001b[0;34m\u001b[0m\u001b[0;34m\u001b[0m\u001b[0m\n\u001b[1;32m   1701\u001b[0m                 \u001b[0merr\u001b[0m \u001b[0;34m=\u001b[0m \u001b[0;34m\"Could not interpret input '{}'\"\u001b[0m\u001b[0;34m.\u001b[0m\u001b[0mformat\u001b[0m\u001b[0;34m(\u001b[0m\u001b[0mvar\u001b[0m\u001b[0;34m)\u001b[0m\u001b[0;34m\u001b[0m\u001b[0;34m\u001b[0m\u001b[0m\n\u001b[0;32m-> 1702\u001b[0;31m                 \u001b[0;32mraise\u001b[0m \u001b[0mValueError\u001b[0m\u001b[0;34m(\u001b[0m\u001b[0merr\u001b[0m\u001b[0;34m)\u001b[0m\u001b[0;34m\u001b[0m\u001b[0;34m\u001b[0m\u001b[0m\n\u001b[0m\u001b[1;32m   1703\u001b[0m \u001b[0;34m\u001b[0m\u001b[0m\n\u001b[1;32m   1704\u001b[0m         \u001b[0;31m# Find the names of the variables\u001b[0m\u001b[0;34m\u001b[0m\u001b[0;34m\u001b[0m\u001b[0;34m\u001b[0m\u001b[0m\n",
      "\u001b[0;31mValueError\u001b[0m: Could not interpret input 'GRE Score'"
     ]
    },
    {
     "data": {
      "image/png": "[encoded data removed]",
      "text/plain": [
       "<Figure size 432x432 with 3 Axes>"
      ]
     },
     "metadata": {
      "needs_background": "light"
     },
     "output_type": "display_data"
    }
   ],
   "source": [
    "sns.jointplot(x=\"GRE Score\", y=\"CGPA\", data=df)"
   ]
  },
  {
   "cell_type": "markdown",
   "metadata": {
    "_uuid": "df7b52b954fb5649eec391e620aa6877c5f114ff"
   },
   "source": [
    "Does all the features are important given different GPAs?"
   ]
  },
  {
   "cell_type": "code",
   "execution_count": null,
   "metadata": {
    "_uuid": "a0eb3fa2b762e2398813c81a6b6b53a152156708"
   },
   "outputs": [],
   "source": [
    "#Correlation for different deciles of the most important variable to be admitted\n",
    "def corr_parts(data,x,y,z,z_cutoff):\n",
    "    df_temp = data.loc[data[z] > z_cutoff]\n",
    "    return df_temp[x].corr(df_temp[y])\n",
    "\n",
    "dl_contrast = np.around(np.percentile(df['CGPA'], np.arange(0, 100, 10)),1)\n",
    "\n",
    "corr_sop = []\n",
    "for x in dl_contrast:\n",
    "    corr_sop.append(corr_parts(df,'SOP','Chance of Admit ','CGPA', x ))\n",
    "corr_lor = []\n",
    "for x in dl_contrast:\n",
    "    corr_lor.append(corr_parts(df,'LOR ','Chance of Admit ','CGPA', x ))\n",
    "    \n",
    "result = pd.DataFrame ({'decile': dl_contrast, 'sop': corr_sop, 'lor': corr_lor  })\n",
    "result = result.melt('decile', var_name='vars',  value_name='corr')\n",
    "\n",
    "# Set up the seaborn figure\n",
    "sns.factorplot(x=\"decile\", y=\"corr\", hue='vars', data=result)"
   ]
  },
  {
   "cell_type": "markdown",
   "metadata": {
    "_uuid": "5068e3c24777dbc2058145c710efda7e975ff363"
   },
   "source": [
    "The correlation of the statement of purpose and recommendation letters decay in the upper GPA deciles. It means that GPA is so strong that if you have a good one the rest of the variables do not matter that much, on the opposite if your GPA is not the best the these variables really influence the result of the admission."
   ]
  },
  {
   "cell_type": "markdown",
   "metadata": {
    "_uuid": "d9b98b83b9493bba63eee167e8326e6c6512d705"
   },
   "source": [
    "## Data Transformations"
   ]
  },
  {
   "cell_type": "code",
   "execution_count": null,
   "metadata": {
    "_uuid": "7258c163ec5233cd86dcccfaaedc444d7822b5df"
   },
   "outputs": [],
   "source": [
    "#Scaling the continuos variables\n",
    "df_scale = df.copy()\n",
    "scaler = preprocessing.StandardScaler()\n",
    "columns =df.columns[1:7]\n",
    "df_scale[columns] = scaler.fit_transform(df_scale[columns])\n",
    "df_scale.head()"
   ]
  },
  {
   "cell_type": "markdown",
   "metadata": {
    "_uuid": "28e05a52d7fd3fd07b7f0061275a4707c0e1e51f"
   },
   "source": [
    "## Clustering"
   ]
  },
  {
   "cell_type": "markdown",
   "metadata": {
    "_uuid": "aaf505d3f98ac1bb74357b411844537a554d3636"
   },
   "source": [
    "The first step is to find the number of clusters that minimize the variance but still are a practical number to analyze."
   ]
  },
  {
   "cell_type": "code",
   "execution_count": null,
   "metadata": {
    "_uuid": "1e26d20ba2e22866c73a05219a823aaa2d0c0037"
   },
   "outputs": [],
   "source": [
    "#Elbow graph\n",
    "ks = range(1, 6)\n",
    "inertias = []\n",
    "\n",
    "for k in ks:\n",
    "    # Create a KMeans instance with k clusters: model\n",
    "    model = KMeans(n_clusters=k)\n",
    "    \n",
    "    # Fit model to samples\n",
    "    model.fit(df_scale.iloc[:,1:])\n",
    "    \n",
    "    # Append the inertia to the list of inertias\n",
    "    inertias.append(model.inertia_)\n",
    "    \n",
    "# Plot ks vs inertias\n",
    "plt.plot(ks, inertias, '-o')\n",
    "plt.xlabel('number of clusters, k')\n",
    "plt.ylabel('inertia')\n",
    "plt.xticks(ks)\n",
    "plt.show()"
   ]
  },
  {
   "cell_type": "code",
   "execution_count": null,
   "metadata": {
    "_uuid": "3f7c1f23fb4cbdc2eedeaa24f3f341bedf381016"
   },
   "outputs": [],
   "source": [
    "# Create a KMeans instance with 3 clusters: model\n",
    "model = KMeans(n_clusters=3)\n",
    "\n",
    "# Fit model to points\n",
    "model.fit(df_scale.iloc[:,2:9])\n",
    "\n",
    "# Determine the cluster labels of new_points: labels\n",
    "df_scale['cluster'] = model.predict(df_scale.iloc[:,2:9])\n",
    "\n",
    "df_scale.head()"
   ]
  },
  {
   "cell_type": "markdown",
   "metadata": {
    "_uuid": "96070f9fc5b64fd23f6296af590fead78417c89c"
   },
   "source": [
    "Each register has a cluster now, lets visualized using [PCA](https://www.kaggle.com/camiloemartinez/is-the-human-freedom-index-a-good-index). \n"
   ]
  },
  {
   "cell_type": "code",
   "execution_count": null,
   "metadata": {
    "_uuid": "b28f1204bea999694cc115279639048bd1e02951"
   },
   "outputs": [],
   "source": [
    "# Create PCA instance: model\n",
    "model_pca = PCA()\n",
    "\n",
    "# Apply the fit_transform method of model to grains: pca_features\n",
    "pca_features = model_pca.fit_transform(df_scale.iloc[:,2:9])\n",
    "\n",
    "# Assign 0th column of pca_features: xs\n",
    "xs = pca_features[:,0]\n",
    "\n",
    "# Assign 1st column of pca_features: ys\n",
    "ys = pca_features[:,1]\n",
    "\n",
    "# Scatter plot xs vs ys\n",
    "sns.scatterplot(x=xs, y=ys, hue=\"cluster\", data=df_scale)"
   ]
  },
  {
   "cell_type": "markdown",
   "metadata": {
    "_uuid": "7f05d0645a4803ed56a7852b75881e347416fcbf"
   },
   "source": [
    "The cluster works nice! The tree of them represent a significative population and different to the other populations."
   ]
  },
  {
   "cell_type": "code",
   "execution_count": null,
   "metadata": {
    "_uuid": "8a8f2bc140879a0887d183d16f0f1d2de4c56d1c"
   },
   "outputs": [],
   "source": [
    "sns.boxplot(x=\"cluster\", y=\"Chance of Admit \", data=df_scale, palette=\"Set2\" )"
   ]
  },
  {
   "cell_type": "markdown",
   "metadata": {
    "_uuid": "479fdcc99734a7c6fecb0477109ff69c25498832"
   },
   "source": [
    "In order to understand, explain and give a meaningful name we explore the centroids of each cluster."
   ]
  },
  {
   "cell_type": "code",
   "execution_count": null,
   "metadata": {
    "_uuid": "d4a1e88223b2069b7f6852c93dc5ab5c1a6fa6fd"
   },
   "outputs": [],
   "source": [
    "centroids = model.cluster_centers_\n",
    "df_scale.iloc[:,1:10].groupby(['cluster']).mean()"
   ]
  },
  {
   "cell_type": "code",
   "execution_count": null,
   "metadata": {
    "_uuid": "5c6d2955963328557c9ac68c57b8b5be99491515"
   },
   "outputs": [],
   "source": [
    "sns.heatmap(df_scale.iloc[:,1:10].groupby(['cluster']).mean(), cmap=\"YlGnBu\")"
   ]
  },
  {
   "cell_type": "markdown",
   "metadata": {
    "_uuid": "e183e4cdcf299f4034e47f1d3fdbe3259ec928dc"
   },
   "source": [
    "- Cluster 0: **Top** *students, higher score in all the variables than rest of the population.*\n",
    "- Cluster 1: **Average** *students, almost average in each variable but some of them have a good score in one variable in particular that make them more eligible in the admission.*\n",
    "- Cluster 2: **Aspirational** *student, below the average of the population. In limited cases eligible given extraordinary score in a particular variable.*\n"
   ]
  },
  {
   "cell_type": "code",
   "execution_count": null,
   "metadata": {
    "_uuid": "2e77796e1a661f4621c1e3db487365527f2116e3"
   },
   "outputs": [],
   "source": [
    "pd.DataFrame(df_scale['cluster'].value_counts(dropna=False))"
   ]
  },
  {
   "cell_type": "code",
   "execution_count": null,
   "metadata": {
    "_uuid": "fe6157bdcd47594af79f54f1d125f674244136af"
   },
   "outputs": [],
   "source": [
    "g = sns.PairGrid(df_scale.iloc[:,1:10], hue=\"cluster\", palette=\"Set2\")\n",
    "g.map(plt.scatter);"
   ]
  },
  {
   "cell_type": "markdown",
   "metadata": {
    "_uuid": "258321790651238b0405afd4b09337d08418ba59"
   },
   "source": [
    "The scatter plots show the segmentation separate very well the population across all the variables. Which is the desire outcome of the exercise."
   ]
  },
  {
   "cell_type": "markdown",
   "metadata": {
    "_uuid": "eaeb8b7f2ba9599a22071e7a2e85b6de296849f8"
   },
   "source": []
  },
  {
   "cell_type": "code",
   "execution_count": null,
   "metadata": {},
   "outputs": [],
   "source": []
  }
 ],
 "metadata": {
  "kernelspec": {
   "display_name": "Python 3",
   "language": "python",
   "name": "python3"
  },
  "language_info": {
   "codemirror_mode": {
    "name": "ipython",
    "version": 3
   },
   "file_extension": ".py",
   "mimetype": "text/x-python",
   "name": "python",
   "nbconvert_exporter": "python",
   "pygments_lexer": "ipython3",
   "version": "3.8.3"
  }
 },
 "nbformat": 4,
 "nbformat_minor": 1
}
